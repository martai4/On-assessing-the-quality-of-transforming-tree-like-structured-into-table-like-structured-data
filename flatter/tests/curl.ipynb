{
 "cells": [
  {
   "cell_type": "markdown",
   "metadata": {},
   "source": [
    "### Curl post for balloon tests"
   ]
  },
  {
   "cell_type": "code",
   "execution_count": 4,
   "metadata": {},
   "outputs": [],
   "source": [
    "import requests\n",
    "import json\n",
    "import itertools\n",
    "\n",
    "URL = 'http://localhost:8080/api/v1/ballooning/balloon-test'\n",
    "\n",
    "def balloon_test(dataset_strategy: str, processing_strategy:str, records_to_send: int):\n",
    "    payload = {\n",
    "        \"datasetStrategy\": dataset_strategy,\n",
    "        \"processingStrategy\": processing_strategy,\n",
    "        \"recordsToSend\": records_to_send,\n",
    "        \"socketPort\": 8081,\n",
    "        \"serverPort\": 50051\n",
    "    }\n",
    "    print(payload)\n",
    "\n",
    "    headers = {\n",
    "        'Content-Type': 'application/json'\n",
    "    }\n",
    "\n",
    "    return requests.post(URL, headers=headers, data=json.dumps(payload))"
   ]
  },
  {
   "cell_type": "markdown",
   "metadata": {},
   "source": [
    "### Params to test"
   ]
  },
  {
   "cell_type": "code",
   "execution_count": 5,
   "metadata": {},
   "outputs": [],
   "source": [
    "dataset_strategies = [\"NASA\", \"MOVIES\", \"AIRLINES\", \"GISTS\", \"REDDIT\"]\n",
    "records_to_send = [100000, 1000000, 50000, 500000, 5000000]\n",
    "loops = 12\n",
    "processing_strategies = [\n",
    "    \"JSON_FIRST_LIST_FLATTENER\",\n",
    "    \"JSON_LIST_TO_TABLE_CONVERTER\",\n",
    "    \"JSON_PATH_FLATTENER\",\n",
    "    \"JSON_FLATTEN\",\n",
    "    \"JSON_DUMMY\"\n",
    "]\n",
    "\n",
    "param_combinations = itertools.product(dataset_strategies, records_to_send, records_per_package, range(loops), processing_strategies)"
   ]
  },
  {
   "cell_type": "code",
   "execution_count": null,
   "metadata": {},
   "outputs": [],
   "source": [
    "for dataset_strategy, records_to_send_val, _, processing_strategy in param_combinations:\n",
    "    response = balloon_test(dataset_strategy, processing_strategy, records_to_send_val)"
   ]
  }
 ],
 "metadata": {
  "kernelspec": {
   "display_name": "Python 3",
   "language": "python",
   "name": "python3"
  },
  "language_info": {
   "codemirror_mode": {
    "name": "ipython",
    "version": 3
   },
   "file_extension": ".py",
   "mimetype": "text/x-python",
   "name": "python",
   "nbconvert_exporter": "python",
   "pygments_lexer": "ipython3",
   "version": "3.8.10"
  }
 },
 "nbformat": 4,
 "nbformat_minor": 2
}
