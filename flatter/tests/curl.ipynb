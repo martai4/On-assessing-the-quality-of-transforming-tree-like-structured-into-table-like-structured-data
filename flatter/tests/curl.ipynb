{
 "cells": [
  {
   "cell_type": "markdown",
   "metadata": {},
   "source": [
    "### Curl post for balloon tests"
   ]
  },
  {
   "cell_type": "code",
   "execution_count": 16,
   "metadata": {},
   "outputs": [],
   "source": [
    "import requests\n",
    "import json\n",
    "import itertools\n",
    "\n",
    "URL = 'http://localhost:8080/api/v1/ballooning/balloon-test'\n",
    "\n",
    "def balloon_test(dataset_strategy: str, processing_strategy:str, records_to_send: int):\n",
    "    payload = {\n",
    "        \"datasetStrategy\": dataset_strategy,\n",
    "        \"processingStrategy\": processing_strategy,\n",
    "        \"recordsToSend\": records_to_send,\n",
    "        \"socketPort\": 8081,\n",
    "        \"serverPort\": 50051\n",
    "    }\n",
    "    # print(payload)\n",
    "\n",
    "    headers = {\n",
    "        'Content-Type': 'application/json'\n",
    "    }\n",
    "\n",
    "    return requests.post(URL, headers=headers, data=json.dumps(payload))"
   ]
  },
  {
   "cell_type": "markdown",
   "metadata": {},
   "source": [
    "### Params to test"
   ]
  },
  {
   "cell_type": "code",
   "execution_count": 17,
   "metadata": {},
   "outputs": [],
   "source": [
    "loops = 12\n",
    "processing_strategies = [\n",
    "    \"JSON_FIRST_LIST_FLATTENER\",\n",
    "    \"JSON_LIST_TO_TABLE_CONVERTER\",\n",
    "    \"JSON_PATH_FLATTENER\",\n",
    "    \"JSON_FLATTEN\",\n",
    "    \"JSON_DUMMY\"\n",
    "]"
   ]
  },
  {
   "cell_type": "markdown",
   "metadata": {},
   "source": [
    "### Tests automatization"
   ]
  },
  {
   "cell_type": "code",
   "execution_count": 18,
   "metadata": {},
   "outputs": [],
   "source": [
    "for _ in range(loops):\n",
    "\n",
    "    param_combinations = itertools.product([\"NASA\", \"MOVIES\", \"AIRLINES\"], [1000000, 2000000], processing_strategies)\n",
    "    for dataset_strategy, records_to_send_val, processing_strategy in param_combinations:\n",
    "        response = balloon_test(dataset_strategy, processing_strategy, records_to_send_val)\n",
    "\n",
    "    param_combinations = itertools.product([100000, 500000], processing_strategies)\n",
    "    for records_to_send_val, processing_strategy in param_combinations:\n",
    "        response = balloon_test(\"GISTS\", processing_strategy, records_to_send_val)\n",
    "\n",
    "    param_combinations = itertools.product([10000, 50000], processing_strategies)\n",
    "    for records_to_send_val, processing_strategy in param_combinations:\n",
    "        response = balloon_test(\"REDDIT\", processing_strategy, records_to_send_val)\n"
   ]
  }
 ],
 "metadata": {
  "kernelspec": {
   "display_name": "Python 3",
   "language": "python",
   "name": "python3"
  },
  "language_info": {
   "codemirror_mode": {
    "name": "ipython",
    "version": 3
   },
   "file_extension": ".py",
   "mimetype": "text/x-python",
   "name": "python",
   "nbconvert_exporter": "python",
   "pygments_lexer": "ipython3",
   "version": "3.8.10"
  }
 },
 "nbformat": 4,
 "nbformat_minor": 2
}
