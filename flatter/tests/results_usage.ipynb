{
 "cells": [
  {
   "cell_type": "code",
   "execution_count": null,
   "metadata": {},
   "outputs": [],
   "source": [
    "import pandas as pd\n",
    "import matplotlib.pyplot as plt\n",
    "import numpy as np\n",
    "import os\n",
    "import glob"
   ]
  },
  {
   "cell_type": "markdown",
   "metadata": {},
   "source": [
    "### CPU and Memory Usage"
   ]
  },
  {
   "cell_type": "code",
   "execution_count": null,
   "metadata": {},
   "outputs": [],
   "source": [
    "MAX_MEASURES = 15\n",
    "DIRECTORY_PATH = \"memory/\"\n",
    "txt_files = glob.glob(os.path.join(DIRECTORY_PATH, \"*.txt\"))\n",
    "files = [os.path.basename(file) for file in txt_files]\n",
    "\n",
    "main_average_dict = {} # dict of lists [memory_usage_1, ...]\n",
    "\"\"\" example structure\n",
    "{\n",
    "    ('nasa', '100000', '15000'): {\n",
    "        'json_dummy': [80.9, 77.25, 56.42],\n",
    "        'json_first_list_flattener': [70.76, 76.575, 58.025, 77.8, 68.9]\n",
    "    },\n",
    "    ('nasa', '1000000', '12000'): {\n",
    "        'json_dummy': [78.46, 90.97, 80.784, 88.621]\n",
    "    }\n",
    "}\n",
    "\"\"\"\n",
    "\n",
    "\n",
    "for filename in files:\n",
    "    file_tags = filename.split(\"---\")\n",
    "    test_key = (file_tags[0], file_tags[1]) # dataset, dataset_size\n",
    "    flatter_key = file_tags[2] # flatter_method\n",
    "\n",
    "    with open(DIRECTORY_PATH + filename) as file:\n",
    "        memory = list(map(int, file.read().split()))\n",
    "    \n",
    "    if test_key not in main_average_dict:\n",
    "        main_average_dict[test_key] = {}\n",
    "    if flatter_key not in main_average_dict[test_key]:\n",
    "        main_average_dict[test_key][flatter_key] = []\n",
    "\n",
    "    mem_avg = round(sum(memory)/len(memory), 3)\n",
    "    main_average_dict[test_key][flatter_key].append(mem_avg)\n",
    "\n",
    "# Get max 12 last measurements\n",
    "for test_key in main_average_dict.keys():\n",
    "    for key, value in main_average_dict[test_key].items():\n",
    "        if len(value) > MAX_MEASURES:\n",
    "            main_average_dict[test_key][key] = value[-MAX_MEASURES:]\n",
    "\n",
    "print(\"Keys of main_average_dict:\")\n",
    "for key in main_average_dict.keys():\n",
    "    print(key)\n",
    "\n",
    "\n",
    "def draw_usage_plot(key: tuple):\n",
    "    if key not in main_average_dict.keys():\n",
    "        print(f\"Key {key} not found!\")\n",
    "        return\n",
    "\n",
    "    measurements = main_average_dict[key].copy()\n",
    "    DUMMY_KEY = \"json_dummy\"\n",
    "    dummy_measurement = measurements[DUMMY_KEY]\n",
    "\n",
    "    if (dummy_measurement is None or len(dummy_measurement) < 1):\n",
    "        print(\"No dummy measures!\")\n",
    "        return\n",
    "\n",
    "    measurements.pop(DUMMY_KEY)\n",
    "    df_memory_usage = pd.DataFrame()\n",
    "\n",
    "    for method, usage in measurements.items():\n",
    "        real_usage = [\n",
    "            round(usage[i], 3)\n",
    "            for i in range(len(usage))\n",
    "        ]\n",
    "\n",
    "        # Subtract from dummy?\n",
    "\n",
    "        while len(real_usage) < MAX_MEASURES:\n",
    "            real_usage.append(np.nan)\n",
    "        df_memory_usage[method] = real_usage\n",
    "\n",
    "    fig, ax = plt.subplots(figsize=(10, 8))\n",
    "    df_memory_usage.boxplot(grid=False)\n",
    "    ax.set_title(\"Memory usage\")\n",
    "\n",
    "    plt.tight_layout()\n",
    "    plt.show()"
   ]
  },
  {
   "cell_type": "code",
   "execution_count": null,
   "metadata": {},
   "outputs": [],
   "source": [
    "# draw_usage_plot(('airlines', '1000000'))\n",
    "# draw_usage_plot(('movies', '1000000'))\n",
    "# draw_usage_plot(('nasa', '1000000'))\n",
    "\n",
    "draw_usage_plot(('gists', '100000'))\n",
    "draw_usage_plot(('reddit', '10000'))"
   ]
  }
 ],
 "metadata": {
  "kernelspec": {
   "display_name": "Python 3",
   "language": "python",
   "name": "python3"
  },
  "language_info": {
   "codemirror_mode": {
    "name": "ipython",
    "version": 3
   },
   "file_extension": ".py",
   "mimetype": "text/x-python",
   "name": "python",
   "nbconvert_exporter": "python",
   "pygments_lexer": "ipython3",
   "version": "3.8.10"
  }
 },
 "nbformat": 4,
 "nbformat_minor": 2
}
