{
 "cells": [
  {
   "cell_type": "code",
   "execution_count": 11,
   "metadata": {},
   "outputs": [],
   "source": [
    "import pandas as pd\n",
    "import matplotlib.pyplot as plt\n",
    "import numpy as np\n",
    "import os\n",
    "import glob"
   ]
  },
  {
   "cell_type": "markdown",
   "metadata": {},
   "source": [
    "### CPU and Memory Usage"
   ]
  },
  {
   "cell_type": "code",
   "execution_count": 12,
   "metadata": {},
   "outputs": [
    {
     "name": "stdout",
     "output_type": "stream",
     "text": [
      "Keys of main_average_dict:\n"
     ]
    }
   ],
   "source": [
    "MAX_MEASURES = 12\n",
    "DIRECTORY_PATH = \"cpu-memory/\"\n",
    "txt_files = glob.glob(os.path.join(DIRECTORY_PATH, \"*.txt\"))\n",
    "files = [os.path.basename(file) for file in txt_files]\n",
    "\n",
    "# Delete files with a small number of measurements =============\n",
    "for filename in files:\n",
    "    with open(DIRECTORY_PATH + filename, \"r\") as file:\n",
    "        lines = file.readlines()\n",
    "    if(len(lines) < 10):\n",
    "        os.remove(DIRECTORY_PATH + filename)\n",
    "txt_files = glob.glob(os.path.join(DIRECTORY_PATH, \"*.txt\"))\n",
    "files = [os.path.basename(file) for file in txt_files]\n",
    "# ==============================================================\n",
    "\n",
    "main_average_dict = {} # dict of tuple lists [(memory_usage_1, cpu_usage_1), (...)]\n",
    "\"\"\" example structure\n",
    "{\n",
    "    ('nasa', '100000', '15000'): {\n",
    "        'json_dummy': [(80.9, 75.025), (77.25, 56.425)],\n",
    "        'json_first_list_flattener': [(81.92, 70.76), (76.575, 58.025), (77.8, 68.9)]\n",
    "    },\n",
    "    ('nasa', '1000000', '12000'): {\n",
    "        'json_dummy': [(78.46, 90.97), (80.784, 88.621)]\n",
    "    }\n",
    "}\n",
    "\"\"\"\n",
    "\n",
    "\n",
    "for filename in files:\n",
    "    file_tags = filename.split(\"---\")\n",
    "    test_key = (file_tags[0], file_tags[1]) # dataset, dataset_size\n",
    "    flatter_key = file_tags[2] # flatter_method\n",
    "\n",
    "    df = pd.read_csv(DIRECTORY_PATH + filename, sep=\";\")\n",
    "    if test_key not in main_average_dict:\n",
    "        main_average_dict[test_key] = {}\n",
    "    if flatter_key not in main_average_dict[test_key]:\n",
    "        main_average_dict[test_key][flatter_key] = []\n",
    "\n",
    "    mem_avg = round(df.iloc[:, 0].mean(), 3)\n",
    "    cpu_avg = round(df.iloc[:, 1].mean(), 3)\n",
    "    main_average_dict[test_key][flatter_key].append((mem_avg, cpu_avg))\n",
    "\n",
    "# Get max 12 last measurements\n",
    "for test_key in main_average_dict.keys():\n",
    "    for key, value in main_average_dict[test_key].items():\n",
    "        if len(value) > MAX_MEASURES:\n",
    "            main_average_dict[test_key][key] = value[-MAX_MEASURES:]\n",
    "\n",
    "print(\"Keys of main_average_dict:\")\n",
    "for key in main_average_dict.keys():\n",
    "    print(key)\n",
    "\n",
    "\n",
    "def draw_usage_plot(key: tuple):\n",
    "    if key not in main_average_dict.keys():\n",
    "        print(f\"Key {key} not found!\")\n",
    "        return\n",
    "\n",
    "    measurements = main_average_dict[key].copy()\n",
    "    DUMMY_KEY = \"json_dummy\"\n",
    "    dummy_measurement = measurements[DUMMY_KEY]\n",
    "\n",
    "    if (dummy_measurement is None or len(dummy_measurement) < 1):\n",
    "        print(\"No dummy measures!\")\n",
    "        return\n",
    "\n",
    "    measurements.pop(DUMMY_KEY)\n",
    "    df_memory_usage = pd.DataFrame()\n",
    "    df_cpu_usage = pd.DataFrame()\n",
    "\n",
    "    for method, usage in measurements.items():\n",
    "        real_usage = [\n",
    "            (\n",
    "                round(usage[i][0] - dummy_measurement[min(i, len(dummy_measurement) - 1)][0], 3),\n",
    "                round(usage[i][1] - dummy_measurement[min(i, len(dummy_measurement) - 1)][1], 3)\n",
    "            )\n",
    "            for i in range(len(usage))\n",
    "        ]\n",
    "\n",
    "        while len(real_usage) < MAX_MEASURES:\n",
    "            real_usage.append((np.nan, np.nan))\n",
    "        df_memory_usage[method], df_cpu_usage[method] = zip(*real_usage)\n",
    "\n",
    "    fig, (ax1, ax2) = plt.subplots(1, 2, figsize=(12, 6))\n",
    "    usage_plots = [\n",
    "        (df_memory_usage, ax1, \"Memory Usage [%]\"),\n",
    "        (df_cpu_usage, ax2, \"CPU Usage [%]\")\n",
    "    ]\n",
    "\n",
    "    for (final_df, sub_ax, title) in usage_plots:\n",
    "        final_df.boxplot(ax=sub_ax, grid=False)\n",
    "        sub_ax.grid(axis='y')\n",
    "        sub_ax.set_title(title)\n",
    "\n",
    "    plt.tight_layout()\n",
    "    plt.show()"
   ]
  },
  {
   "cell_type": "code",
   "execution_count": 13,
   "metadata": {},
   "outputs": [
    {
     "name": "stdout",
     "output_type": "stream",
     "text": [
      "Key ('nasa', '10000000') not found!\n"
     ]
    }
   ],
   "source": [
    "draw_usage_plot(('nasa', '10000000'))"
   ]
  }
 ],
 "metadata": {
  "kernelspec": {
   "display_name": "Python 3",
   "language": "python",
   "name": "python3"
  },
  "language_info": {
   "codemirror_mode": {
    "name": "ipython",
    "version": 3
   },
   "file_extension": ".py",
   "mimetype": "text/x-python",
   "name": "python",
   "nbconvert_exporter": "python",
   "pygments_lexer": "ipython3",
   "version": "3.8.10"
  }
 },
 "nbformat": 4,
 "nbformat_minor": 2
}
