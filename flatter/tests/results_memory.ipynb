{
 "cells": [
  {
   "cell_type": "code",
   "execution_count": 100,
   "metadata": {},
   "outputs": [],
   "source": [
    "import pandas as pd\n",
    "import matplotlib.pyplot as plt\n",
    "import numpy as np\n",
    "import os\n",
    "import glob\n",
    "import itertools"
   ]
  },
  {
   "cell_type": "markdown",
   "metadata": {},
   "source": [
    "### CPU and Memory Usage"
   ]
  },
  {
   "cell_type": "code",
   "execution_count": 101,
   "metadata": {},
   "outputs": [],
   "source": [
    "MAX_MEASURES = 12\n",
    "\n",
    "algorithms_list = [\n",
    "    \"JSONPathFlattener\",\n",
    "    \"JSONFirstListFlattener\",\n",
    "    \"JSONListToTableConverter\",\n",
    "    \"JSONFlatten\"\n",
    "]\n",
    "\n",
    "files_to_check = [\n",
    "    \"airlines\",\n",
    "    \"gists\",\n",
    "    \"movies\",\n",
    "    \"reddit\",\n",
    "    \"nasa\",\n",
    "]\n",
    "\n",
    "\n",
    "for test_file in files_to_check:\n",
    "    df = pd.DataFrame()\n",
    "    for algorithm in algorithms_list:\n",
    "        values = np.array([])\n",
    "        for i in range(MAX_MEASURES):\n",
    "            with open(f\"memory/{test_file}-{algorithm}-{i}.txt\") as file:\n",
    "                memory = np.array(file.read().split()).astype(float)\n",
    "                values = np.append(values, np.mean(memory))\n",
    "\n",
    "        with open(f\"memory/combined/{test_file}-{algorithm}.txt\", \"w\") as file:\n",
    "            file.write(\"\\n\".join(map(str, values)))\n",
    "                    \n",
    "        # df[algorithm] = pd.DataFrame(values)\n",
    "\n",
    "    # axes = df.boxplot(figsize=(8, 5), grid=False)\n",
    "    # axes.grid(axis=\"y\")\n",
    "    # axes.set_ylabel('Memory usage [B]')\n",
    "    # plt.tight_layout()\n",
    "    # plt.title(f\"Memory Usage for {test_file}\")\n",
    "    # # plt.savefig(\"\")\n",
    "    # plt.show()\n"
   ]
  }
 ],
 "metadata": {
  "kernelspec": {
   "display_name": "Python 3",
   "language": "python",
   "name": "python3"
  },
  "language_info": {
   "codemirror_mode": {
    "name": "ipython",
    "version": 3
   },
   "file_extension": ".py",
   "mimetype": "text/x-python",
   "name": "python",
   "nbconvert_exporter": "python",
   "pygments_lexer": "ipython3",
   "version": "3.8.10"
  }
 },
 "nbformat": 4,
 "nbformat_minor": 2
}
