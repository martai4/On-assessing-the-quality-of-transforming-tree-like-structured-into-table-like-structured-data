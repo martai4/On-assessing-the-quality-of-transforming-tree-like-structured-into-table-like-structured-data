{
 "cells": [
  {
   "cell_type": "markdown",
   "metadata": {},
   "source": [
    "## Useful code for processing test data"
   ]
  },
  {
   "cell_type": "markdown",
   "metadata": {},
   "source": [
    "### Imports"
   ]
  },
  {
   "cell_type": "code",
   "execution_count": 13,
   "metadata": {},
   "outputs": [],
   "source": [
    "import pandas as pd\n",
    "import matplotlib.pyplot as plt\n",
    "import numpy as np\n",
    "import os\n",
    "import glob"
   ]
  },
  {
   "cell_type": "markdown",
   "metadata": {},
   "source": [
    "### Time test for files"
   ]
  },
  {
   "cell_type": "code",
   "execution_count": 14,
   "metadata": {},
   "outputs": [],
   "source": [
    "def show_time_plot_for_file(TEST_FILES, DUMMY_FILE):\n",
    "    with open(DUMMY_FILE) as file:\n",
    "        dummy_values = np.array(file.read().split()).astype(float)\n",
    "\n",
    "    df_time_duration = pd.DataFrame()\n",
    "\n",
    "    for filename, plot_name in TEST_FILES:\n",
    "        values = np.array([])\n",
    "        with open(filename) as file:\n",
    "            unclean_values = np.array(file.read().split()).astype(float)\n",
    "            values = unclean_values - dummy_values\n",
    "\n",
    "            mask = np.ones(len(values), dtype=bool)\n",
    "            mask[np.argmin(values)] = mask[np.argmax(values)] = False\n",
    "            values = values[mask]\n",
    "\n",
    "        df_time_duration[plot_name] = pd.DataFrame(values)\n",
    "\n",
    "    axes = df_time_duration.boxplot(figsize=(8,5), grid=False)\n",
    "    axes.grid(axis='y')\n",
    "    plt.tight_layout()\n",
    "    plt.show()"
   ]
  },
  {
   "cell_type": "code",
   "execution_count": 15,
   "metadata": {},
   "outputs": [],
   "source": [
    "# Whole knowledgebase test\n",
    "TEST_FILES = [\n",
    "    (\"time/files/JSONFlatten\", \"JSONFlatten\"),\n",
    "    (\"time/files/JSONFirstListFlattener\", \"JSONFirstListFlattener\"),\n",
    "    (\"time/files/JSONListToTableConverter\", \"JSONListToTableConverter\"),\n",
    "    (\"time/files/JSONPathFlattener\", \"JSONPathFlattener\"),\n",
    "]\n",
    "\n",
    "DUMMY_FILE = \"time/files/JSONDummy\"\n",
    "show_time_plot_for_file(TEST_FILES, DUMMY_FILE)"
   ]
  },
  {
   "cell_type": "code",
   "execution_count": 16,
   "metadata": {},
   "outputs": [
    {
     "data": {
      "image/png": "[encoded data removed]",
      "text/plain": [
       "<Figure size 800x500 with 1 Axes>"
      ]
     },
     "metadata": {},
     "output_type": "display_data"
    }
   ],
   "source": [
    "# AIRLINES-100000\n",
    "test_name = \"AIRLINES-100000\"\n",
    "TEST_FILES = [\n",
    "    (f\"time/files/{test_name}-JSONFlatten.txt\", \"JSONFlatten\"),\n",
    "    (f\"time/files/{test_name}-JSONFirstListFlattener.txt\", \"JSONFirstListFlattener\"),\n",
    "    (f\"time/files/{test_name}-JSONListToTableConverter.txt\", \"JSONListToTableConverter\"),\n",
    "    (f\"time/files/{test_name}-JSONPathFlattener.txt\", \"JSONPathFlattener\"),\n",
    "]\n",
    "\n",
    "DUMMY_FILE = f\"time/files/{test_name}-JSONDummy.txt\"\n",
    "\n",
    "show_time_plot_for_file(TEST_FILES, DUMMY_FILE)"
   ]
  },
  {
   "cell_type": "markdown",
   "metadata": {},
   "source": [
    "### Time measures with ballooner"
   ]
  },
  {
   "cell_type": "code",
   "execution_count": 17,
   "metadata": {},
   "outputs": [
    {
     "name": "stdout",
     "output_type": "stream",
     "text": [
      "Keys of main_time_dict:\n"
     ]
    }
   ],
   "source": [
    "MAX_MEASURES = 12\n",
    "DIRECTORY_PATH = \"time/\"\n",
    "txt_files = glob.glob(os.path.join(DIRECTORY_PATH, \"*.txt\"))\n",
    "files = [os.path.basename(file) for file in txt_files]\n",
    "\n",
    "main_time_dict = {}\n",
    "\"\"\" example structure\n",
    "{\n",
    "    ('nasa', '100000', '15000'): {\n",
    "        'json_dummy': [80.9, 75.025, 77.25, 56.425],\n",
    "        'json_first_list_flattener': [81.92, 70.76, 76.575, 58.025, 77.8, 68.9]\n",
    "    },\n",
    "    ('nasa', '1000000', '12000'): {\n",
    "        'json_dummy': [78.46, 90.97, 80.784, 88.621]\n",
    "    }\n",
    "}\n",
    "\"\"\"\n",
    "\n",
    "for filename in files:\n",
    "    file_tags = filename.split(\"-\")\n",
    "    time_key = (file_tags[0], file_tags[1]) # dataset, dataset_size\n",
    "    flatter_key = file_tags[2] # flatter_method\n",
    "\n",
    "    if time_key not in main_time_dict:\n",
    "        main_time_dict[time_key] = {}\n",
    "\n",
    "    with open(DIRECTORY_PATH + filename) as file:\n",
    "        data = np.array(file.read().split()).astype(float)\n",
    "        if len(data) > MAX_MEASURES:\n",
    "            data = data[-MAX_MEASURES:]  # Take only the last 12 measures\n",
    "        main_time_dict[time_key][flatter_key] = data\n",
    "\n",
    "print(\"Keys of main_time_dict:\")\n",
    "for key in main_time_dict.keys():\n",
    "    print(key)\n",
    "\n",
    "def draw_time_plot(key: tuple):\n",
    "    if key not in main_time_dict.keys():\n",
    "        print(f\"Key {key} not found!\")\n",
    "        return\n",
    "\n",
    "    measurements = main_time_dict[key].copy()\n",
    "    DUMMY_KEY = \"json_dummy.txt\"\n",
    "    if DUMMY_KEY not in measurements.keys():\n",
    "        print(f\"DUMMY_KEY not found!\")\n",
    "        return\n",
    "\n",
    "    dummy_values = measurements[DUMMY_KEY]\n",
    "    measurements.pop(DUMMY_KEY)\n",
    "\n",
    "    if (dummy_values is None or len(dummy_values) < 1):\n",
    "        print(\"No dummy measures!\")\n",
    "        return\n",
    "\n",
    "    df_time_duration = pd.DataFrame()\n",
    "    for method, time in measurements.items():\n",
    "        unclean_values = np.array(time).astype(float)\n",
    "        while len(dummy_values) < len(unclean_values):\n",
    "            dummy_values = np.append(dummy_values, dummy_values[-1])\n",
    "\n",
    "        values = unclean_values - dummy_values[:len(unclean_values)]\n",
    "\n",
    "        mask = np.ones(len(values), dtype=bool)\n",
    "        mask[np.argmin(values)] = mask[np.argmax(values)] = False\n",
    "        mask = values > 0\n",
    "        values = values[mask]\n",
    "\n",
    "        df_time_duration[method] = pd.DataFrame(values)\n",
    "\n",
    "    axes = df_time_duration.boxplot(figsize=(8,5), grid=False)\n",
    "    # axes.set_yscale('log')\n",
    "    axes.grid(axis='y')\n",
    "    plt.tight_layout()\n",
    "    plt.show()\n"
   ]
  },
  {
   "cell_type": "code",
   "execution_count": 18,
   "metadata": {},
   "outputs": [
    {
     "name": "stdout",
     "output_type": "stream",
     "text": [
      "Key ('gists', '100000') not found!\n",
      "Key ('reddit', '10000') not found!\n"
     ]
    }
   ],
   "source": [
    "# draw_time_plot(('airlines', '1000000'))\n",
    "# draw_time_plot(('movies', '1000000'))\n",
    "# draw_time_plot(('nasa', '1000000'))\n",
    "\n",
    "draw_time_plot(('gists', '100000'))\n",
    "draw_time_plot(('reddit', '10000'))"
   ]
  }
 ],
 "metadata": {
  "kernelspec": {
   "display_name": "Python 3",
   "language": "python",
   "name": "python3"
  },
  "language_info": {
   "codemirror_mode": {
    "name": "ipython",
    "version": 3
   },
   "file_extension": ".py",
   "mimetype": "text/x-python",
   "name": "python",
   "nbconvert_exporter": "python",
   "pygments_lexer": "ipython3",
   "version": "3.8.10"
  }
 },
 "nbformat": 4,
 "nbformat_minor": 2
}
